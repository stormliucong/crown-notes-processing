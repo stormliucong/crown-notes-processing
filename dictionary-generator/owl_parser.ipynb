{
 "cells": [
  {
   "cell_type": "code",
   "execution_count": 1,
   "metadata": {},
   "outputs": [],
   "source": [
    "from lxml import etree\n",
    "import re\n",
    "import sys"
   ]
  },
  {
   "cell_type": "code",
   "execution_count": 2,
   "metadata": {},
   "outputs": [],
   "source": [
    "def owl2medlee_for_hpo(owl,medlee=None):\n",
    "    \n",
    "    if not medlee:\n",
    "        medlee = re.sub('(^.+?\\.)owl$','\\g<1>medlee.txt',owl)\n",
    "\n",
    "    tree = etree.parse(owl)\n",
    "    root = tree.getroot()\n",
    "    id = ''\n",
    "    label = ''\n",
    "    synonym = ''\n",
    "    i = 0\n",
    "    with open(medlee,'w+') as o:\n",
    "        for ele1 in root.findall('owl:Class', root.nsmap):\n",
    "            for ele2 in ele1.findall('oboInOwl:id',root.nsmap):\n",
    "                m = re.match('^(HP:\\d+)$', ele2.text)\n",
    "                if m:\n",
    "                    id = ele2.text\n",
    "                    i += 1\n",
    "                    for ele3 in ele1.findall('rdfs:label', root.nsmap):\n",
    "                        label = ele3.text\n",
    "                        o.write(id + '\\t' + label + '\\t' + label + '\\n')\n",
    "                    for ele4 in ele1.findall('efo:alternative_term',root.nsmap):\n",
    "                        synonym = ele4.text\n",
    "                        o.write(id + '\\t' + label + '\\t' + synonym + '\\n')\n",
    "                else:\n",
    "                    next\n",
    "    print('{0} Ids processed!'.format(i))\n",
    "    return None"
   ]
  },
  {
   "cell_type": "code",
   "execution_count": 12,
   "metadata": {},
   "outputs": [],
   "source": [
    "def owl2medlee_for_ordo(owl,medlee=None):\n",
    "    medlee = re.sub('(^.+?\\.)owl$','\\g<1>medlee.txt',owl)\n",
    "    tree = etree.parse(owl)\n",
    "    root = tree.getroot()\n",
    "    id = ''\n",
    "    label = ''\n",
    "    synonym = ''\n",
    "    i = 0\n",
    "    with open(medlee,'w+') as o:\n",
    "        for ele1 in root.findall('owl:Class', root.nsmap):\n",
    "            for ele2 in ele1.findall('skos:notation',root.nsmap):\n",
    "                m = re.match('^(ORPHA:\\d+)$',ele2.text)\n",
    "                if m :\n",
    "                    id = ele2.text\n",
    "                    i +=1\n",
    "                    for ele3 in ele1.findall('rdfs:label',root.nsmap):\n",
    "                        label = ele3.text\n",
    "                        o.write(id + '\\t' + label + '\\t' + label + '\\n')\n",
    "                    for ele4 in ele1.findall('efo:alternative_term',root.nsmap):\n",
    "                        synonym = ele4.text\n",
    "                        o.write(id + '\\t' + label + '\\t' + synonym + '\\n')\n",
    "                else:\n",
    "                    next\n",
    "    print('{0} Ids processed!'.format(i))\n",
    "    return None          "
   ]
  },
  {
   "cell_type": "code",
   "execution_count": 34,
   "metadata": {},
   "outputs": [],
   "source": [
    "def trim_included(string):\n",
    "    string = re.sub(', INCLUDED$','',string)\n",
    "    return(string)"
   ]
  },
  {
   "cell_type": "code",
   "execution_count": 43,
   "metadata": {},
   "outputs": [],
   "source": [
    "def mimTitles2medlee(mimTitle,medlee=None):\n",
    "    medlee = re.sub('(^.+?\\.)txt$','\\g<1>medlee.txt',mimTitle)\n",
    "    id = ''\n",
    "    label = ''\n",
    "    synonym = ''\n",
    "    i = 0\n",
    "    with open(medlee,'w+') as o:\n",
    "        omim = open(mimTitles,'r+')\n",
    "        '''\n",
    "        http://omim.org/help/faq#1_3\n",
    "        '''\n",
    "        for line in omim.readlines():\n",
    "            if not re.match('^#.+?',line):\n",
    "                cols = line.strip('\\n').split('\\t')\n",
    "                prefix = cols[0]\n",
    "                if prefix in ['Number Sign','Percent','NULL']:\n",
    "                    id = cols[1]\n",
    "                    i += 1\n",
    "                    labels = cols[2].split(';')\n",
    "\n",
    "                    label = trim_included(labels[0])\n",
    "\n",
    "                    o.write(id + '\\t' + label + '\\t' + label + '\\n')\n",
    "                    if len(labels) > 1:\n",
    "                        label_symbol = trim_included(labels[1])\n",
    "                        o.write(id + '\\t' + label + '\\t' + label_symbol + '\\n')\n",
    "\n",
    "                    synonym1 = cols[3]\n",
    "                    synonym2 = cols[4]\n",
    "                    for syn in [synonym1,synonym2]:\n",
    "                        inds = syn.split(';;')\n",
    "                        for ind in inds:\n",
    "                            if ind:\n",
    "\n",
    "                                ts = ind.split(';')\n",
    "                                title = trim_included(ts[0])\n",
    "                                o.write(id + '\\t' + label + '\\t' + title + '\\n')\n",
    "                                if len(ts) > 1:\n",
    "                                    symbol = trim_included(ts[1])\n",
    "                                    o.write(id + '\\t' + label + '\\t' + symbol + '\\n')\n",
    "        omim.close()\n",
    "    print('{0} Ids processed!'.format(i))\n",
    "    return None          "
   ]
  },
  {
   "cell_type": "code",
   "execution_count": 13,
   "metadata": {},
   "outputs": [
    {
     "name": "stdout",
     "output_type": "stream",
     "text": [
      "9079 Ids processed!\n"
     ]
    }
   ],
   "source": [
    "if __name__ == '__main__':\n",
    "    owl2medlee_for_hpo(sys.argv[0])\n",
    "    owl2medlee_for_ordo(sys.argv[1])\n",
    "    mimTitles2medlee(sys.argv[2])"
   ]
  },
  {
   "cell_type": "code",
   "execution_count": 44,
   "metadata": {},
   "outputs": [
    {
     "name": "stdout",
     "output_type": "stream",
     "text": [
      "8666 Ids processed!\n"
     ]
    }
   ],
   "source": [
    "mimTitles2medlee('/Users/cl3720/Projects/CrownNotes/src/main/python/mimTitles.txt')"
   ]
  },
  {
   "cell_type": "code",
   "execution_count": 20,
   "metadata": {},
   "outputs": [
    {
     "data": {
      "text/plain": [
       "True"
      ]
     },
     "execution_count": 20,
     "metadata": {},
     "output_type": "execute_result"
    }
   ],
   "source": []
  },
  {
   "cell_type": "code",
   "execution_count": null,
   "metadata": {},
   "outputs": [],
   "source": []
  }
 ],
 "metadata": {
  "kernelspec": {
   "display_name": "Python 3",
   "language": "python",
   "name": "python3"
  },
  "language_info": {
   "codemirror_mode": {
    "name": "ipython",
    "version": 3
   },
   "file_extension": ".py",
   "mimetype": "text/x-python",
   "name": "python",
   "nbconvert_exporter": "python",
   "pygments_lexer": "ipython3",
   "version": "3.7.0"
  }
 },
 "nbformat": 4,
 "nbformat_minor": 2
}
