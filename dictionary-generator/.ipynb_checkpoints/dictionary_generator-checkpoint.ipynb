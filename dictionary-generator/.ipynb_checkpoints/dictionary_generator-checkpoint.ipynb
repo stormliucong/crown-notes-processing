{
 "cells": [
  {
   "cell_type": "code",
   "execution_count": 120,
   "metadata": {},
   "outputs": [],
   "source": [
    "from lxml import etree\n",
    "import re\n",
    "import sys\n",
    "import os\n",
    "import time"
   ]
  },
  {
   "cell_type": "code",
   "execution_count": 91,
   "metadata": {},
   "outputs": [],
   "source": [
    "def cytoband2medlee(cytoband,medlee=None):\n",
    "    \"\"\"\n",
    "    cytoband is downloaded from\n",
    "    http://hgdownload.cse.ucsc.edu/goldenpath/hg38/database/cytoBand.txt.gz \n",
    "    \"\"\"\n",
    "    if not medlee:\n",
    "        medlee = re.sub('(^.+?\\.)txt$','\\g<1>medlee.txt',cytoband)\n",
    "    id = ''\n",
    "    label = ''\n",
    "    synonym = ''\n",
    "    i = 0\n",
    "    syn_dict = {}\n",
    "    with open(cytoband,'r+') as c:\n",
    "        for line in c.readlines():\n",
    "            if not re.match('^#.+?',line):\n",
    "                cols = line.strip('\\n').split('\\t')\n",
    "                chr = cols[0]\n",
    "                m = re.match('^chr(1?[1-9]|2[0-2]|X|Y|10)$',chr)\n",
    "                if m :\n",
    "                    chr_num = m.group(1)\n",
    "                    band = cols[3]\n",
    "                    id = chr_num\n",
    "                    label = id\n",
    "                    key = label\n",
    "                    if key not in syn_dict:\n",
    "                        syn_dict[key] = set()\n",
    "                    syn_dict[key].add(band)\n",
    "    \n",
    "    with open(medlee,'w+') as o:\n",
    "        for key in syn_dict:\n",
    "            o.write(key+'q' + '\\t' + key+'q' + '\\t' + key+'q' + '\\n')\n",
    "            o.write(key+'p' + '\\t' + key+'p' + '\\t' + key+'p' + '\\n')\n",
    "            i += 1\n",
    "            for value1 in syn_dict[key]:\n",
    "                o.write(key+value1 + '\\t' + key+value1 + '\\t' + key+value1 + '\\n')\n",
    "                for value2 in syn_dict[key]:\n",
    "                    if value1 != value2:\n",
    "                        o.write(key+value1+'-'+value2 + '\\t' + key+value1+'-'+value2 + '\\t' + key+value1+'-'+value2 + '\\n')\n",
    "    print('{0} Ids processed!'.format(i))\n",
    "    return None\n"
   ]
  },
  {
   "cell_type": "code",
   "execution_count": 32,
   "metadata": {},
   "outputs": [],
   "source": [
    "def hgnc2medlee(hgnc,medlee=None):\n",
    "    '''\n",
    "    hgnc is downloaded from\n",
    "    https://biomart.genenames.org/martform/#!/default/HGNC?datasets=hgnc_gene_mart\n",
    "    '''\n",
    "    if not medlee:\n",
    "        medlee = re.sub('(^.+?\\.)txt$','\\g<1>medlee.txt',hgnc)\n",
    "    id = ''\n",
    "    label = ''\n",
    "    synonym = ''\n",
    "    i = 0\n",
    "    syn_dict = {}\n",
    "    with open(hgnc,'r+') as h:\n",
    "        for line in h.readlines():\n",
    "            if not re.match('^#.+?',line):\n",
    "                cols = line.strip('\\n').split('\\t')\n",
    "                id = cols[0]\n",
    "                label = cols[2].strip()\n",
    "                if label:\n",
    "                    key = id + '\\t' + label\n",
    "                    if key not in syn_dict:\n",
    "                        syn_dict[key] = set()\n",
    "                        syn_dict[key].add(label)\n",
    "                        for i in [3,4,5,6,7,8]:\n",
    "                            synonym = cols[i].strip()\n",
    "                            if synonym and synonym != 'entry withdrawn':\n",
    "                                syn_dict[key].add(synonym)\n",
    "\n",
    "    with open(medlee,'r+') as o:\n",
    "        for key in syn_dict:\n",
    "            i += 1\n",
    "            for value in syn_dict[key]:            \n",
    "                o.write(key + '\\t' + value + '\\n')\n",
    "    print('{0} Ids processed!'.format(i))\n",
    "    return None"
   ]
  },
  {
   "cell_type": "code",
   "execution_count": 97,
   "metadata": {},
   "outputs": [],
   "source": [
    "def owl2medlee_for_hpo(owl,medlee=None):\n",
    "    '''\n",
    "    hpo is downloaded from\n",
    "    http://purl.obolibrary.org/obo/hp.owl\n",
    "    '''\n",
    "    if not medlee:\n",
    "        medlee = re.sub('(^.+?\\.)owl$','\\g<1>medlee.txt',owl)\n",
    "\n",
    "    tree = etree.parse(owl)\n",
    "    root = tree.getroot()\n",
    "    id = ''\n",
    "    label = ''\n",
    "    synonym = ''\n",
    "    i = 0\n",
    "    with open(medlee,'w+') as o:\n",
    "        for ele1 in root.findall('owl:Class', root.nsmap):\n",
    "            for ele2 in ele1.findall('oboInOwl:id',root.nsmap):\n",
    "                m = re.match('^(HP:\\d+)$', ele2.text)\n",
    "                if m:\n",
    "                    id = ele2.text\n",
    "                    i += 1\n",
    "                    for ele3 in ele1.findall('rdfs:label', root.nsmap):\n",
    "                        label = ele3.text\n",
    "                        o.write(id + '\\t' + label + '\\t' + label + '\\n')\n",
    "                    for ele4 in ele1.findall('oboInOwl:hasExactSynonym',root.nsmap):\n",
    "                        synonym = ele4.text\n",
    "                        o.write(id + '\\t' + label + '\\t' + synonym + '\\n')\n",
    "                else:\n",
    "                    next\n",
    "    print('{0} Ids processed!'.format(i))\n",
    "    return None"
   ]
  },
  {
   "cell_type": "code",
   "execution_count": 104,
   "metadata": {},
   "outputs": [],
   "source": [
    "def owl2medlee_for_ordo(owl,medlee=None):\n",
    "    '''\n",
    "    orphanet is downloaded from\n",
    "    https://www.ebi.ac.uk/ols/ontologies/ordo\n",
    "    '''\n",
    "    medlee = re.sub('(^.+?\\.)owl$','\\g<1>medlee.txt',owl)\n",
    "    tree = etree.parse(owl)\n",
    "    root = tree.getroot()\n",
    "    id = ''\n",
    "    label = ''\n",
    "    synonym = ''\n",
    "    i = 0\n",
    "    with open(medlee,'w+') as o:\n",
    "        for ele1 in root.findall('owl:Class', root.nsmap):\n",
    "            for ele2 in ele1.findall('skos:notation',root.nsmap):\n",
    "                m = re.match('^(ORPHA:\\d+)$',ele2.text)\n",
    "                if m :\n",
    "                    id = ele2.text\n",
    "                    i +=1\n",
    "                    for ele3 in ele1.findall('rdfs:label',root.nsmap):\n",
    "                        label = ele3.text\n",
    "                        o.write(id + '\\t' + label + '\\t' + label + '\\n')\n",
    "                    for ele4 in ele1.findall('efo:alternative_term',root.nsmap):\n",
    "                        synonym = ele4.text\n",
    "                        o.write(id + '\\t' + label + '\\t' + synonym + '\\n')\n",
    "                else:\n",
    "                    next\n",
    "    print('{0} Ids processed!'.format(i))\n",
    "    return None          "
   ]
  },
  {
   "cell_type": "code",
   "execution_count": 105,
   "metadata": {},
   "outputs": [],
   "source": [
    "def trim_included(string):\n",
    "    '''\n",
    "    remove the INCLUDE text in OMIM\n",
    "    '''\n",
    "    string = re.sub(', INCLUDED$','',string)\n",
    "    return(string)"
   ]
  },
  {
   "cell_type": "code",
   "execution_count": 115,
   "metadata": {},
   "outputs": [],
   "source": [
    "def mimTitles2medlee(mimTitles,medlee=None):\n",
    "    '''\n",
    "    omim is downloaded from \n",
    "    https://www.omim.org/downloads/\n",
    "    '''\n",
    "    medlee = re.sub('(^.+?\\.)txt$','\\g<1>medlee.txt',mimTitles)\n",
    "    id = ''\n",
    "    label = ''\n",
    "    synonym = ''\n",
    "    i = 0\n",
    "    with open(medlee,'w+') as o:\n",
    "        omim = open(mimTitles,'r+')\n",
    "        '''\n",
    "        http://omim.org/help/faq#1_3\n",
    "        '''\n",
    "        for line in omim.readlines():\n",
    "            if not re.match('^#.+?',line):\n",
    "                cols = line.strip('\\n').split('\\t')\n",
    "                prefix = cols[0]\n",
    "                if prefix in ['Number Sign','Percent','NULL']:\n",
    "                    id = cols[1]\n",
    "                    i += 1\n",
    "                    labels = cols[2].split(';')\n",
    "\n",
    "                    label = trim_included(labels[0])\n",
    "\n",
    "                    o.write(id + '\\t' + label + '\\t' + label + '\\n')\n",
    "                    if len(labels) > 1:\n",
    "                        label_symbol = trim_included(labels[1])\n",
    "                        o.write(id + '\\t' + label + '\\t' + label_symbol + '\\n')\n",
    "\n",
    "                    synonym1 = cols[3]\n",
    "                    synonym2 = cols[4]\n",
    "                    for syn in [synonym1,synonym2]:\n",
    "                        inds = syn.split(';;')\n",
    "                        for ind in inds:\n",
    "                            if ind:\n",
    "\n",
    "                                ts = ind.split(';')\n",
    "                                title = trim_included(ts[0])\n",
    "                                o.write(id + '\\t' + label + '\\t' + title + '\\n')\n",
    "                                if len(ts) > 1:\n",
    "                                    symbol = trim_included(ts[1])\n",
    "                                    o.write(id + '\\t' + label + '\\t' + symbol + '\\n')\n",
    "        omim.close()\n",
    "    print('{0} Ids processed!'.format(i))\n",
    "    return None          "
   ]
  },
  {
   "cell_type": "code",
   "execution_count": 123,
   "metadata": {},
   "outputs": [],
   "source": [
    "def file_to_lower(input):\n",
    "    '''\n",
    "    change to lower case required by medlee\n",
    "    '''\n",
    "    output = re.sub('(^.+?\\.)txt$','\\g<1>lowercase.txt',input)\n",
    "    with open(output,'w+') as o:\n",
    "        i = open(input,'r+')\n",
    "        for line in i.readlines():\n",
    "            o.write(line.lower())\n",
    "        i.close()\n",
    "    return None"
   ]
  },
  {
   "cell_type": "code",
   "execution_count": 98,
   "metadata": {},
   "outputs": [
    {
     "name": "stdout",
     "output_type": "stream",
     "text": [
      "10657 Ids processed!\n"
     ]
    }
   ],
   "source": [
    "owl2medlee_for_hpo('/Users/cl3720/Projects/crown-notes-processing/dictionary-generator/hp.owl')"
   ]
  },
  {
   "cell_type": "code",
   "execution_count": 108,
   "metadata": {},
   "outputs": [
    {
     "name": "stdout",
     "output_type": "stream",
     "text": [
      "9079 Ids processed!\n"
     ]
    }
   ],
   "source": [
    "owl2medlee_for_ordo('/Users/cl3720/Projects/crown-notes-processing/dictionary-generator/ordo.owl')"
   ]
  },
  {
   "cell_type": "code",
   "execution_count": 116,
   "metadata": {},
   "outputs": [
    {
     "name": "stdout",
     "output_type": "stream",
     "text": [
      "8666 Ids processed!\n"
     ]
    }
   ],
   "source": [
    "mimTitles2medlee('/Users/cl3720/Projects/crown-notes-processing/dictionary-generator/mimTitles.txt')"
   ]
  },
  {
   "cell_type": "code",
   "execution_count": 117,
   "metadata": {},
   "outputs": [
    {
     "name": "stdout",
     "output_type": "stream",
     "text": [
      "42660 Ids processed!\n"
     ]
    }
   ],
   "source": [
    "hgnc2medlee('/Users/cl3720/Projects/crown-notes-processing/dictionary-generator/hgnc.txt')"
   ]
  },
  {
   "cell_type": "code",
   "execution_count": 118,
   "metadata": {},
   "outputs": [
    {
     "name": "stdout",
     "output_type": "stream",
     "text": [
      "24 Ids processed!\n"
     ]
    }
   ],
   "source": [
    "cytoband2medlee('/Users/cl3720/Projects/crown-notes-processing/dictionary-generator/cytoBand.txt')"
   ]
  },
  {
   "cell_type": "code",
   "execution_count": 127,
   "metadata": {},
   "outputs": [
    {
     "name": "stdout",
     "output_type": "stream",
     "text": [
      "/Users/cl3720/Projects/crown-notes-processing/dictionary-generator/hgnc.medlee.txt\n",
      "/Users/cl3720/Projects/crown-notes-processing/dictionary-generator/hp.medlee.txt\n",
      "/Users/cl3720/Projects/crown-notes-processing/dictionary-generator/mimTitles.medlee.txt\n",
      "/Users/cl3720/Projects/crown-notes-processing/dictionary-generator/ordo.medlee.txt\n",
      "/Users/cl3720/Projects/crown-notes-processing/dictionary-generator/cytoBand.medlee.txt\n"
     ]
    }
   ],
   "source": [
    "for (dirpath, dirnames, filenames) in os.walk('/Users/cl3720/Projects/crown-notes-processing/dictionary-generator/'):\n",
    "    for filename in filenames:\n",
    "        if filename.endswith('.medlee.txt'):\n",
    "            abspath = os.path.abspath(filename)\n",
    "            print(abspath)\n",
    "            file_to_lower(abspath)"
   ]
  },
  {
   "cell_type": "code",
   "execution_count": null,
   "metadata": {},
   "outputs": [],
   "source": [
    "if __name__ == '__main__':\n",
    "    owl2medlee_for_hpo(sys.argv[1])\n",
    "    owl2medlee_for_ordo(sys.argv[2])\n",
    "    mimTitles2medlee(sys.argv[3])\n",
    "    hgnc2medlee(sys.argv[4])\n",
    "    cytoband2medlee(sys.argv[5])\n",
    "    time.sleep(60)\n",
    "    for (dirpath, dirnames, filenames) in os.walk('/Users/cl3720/Projects/crown-notes-processing/dictionary-generator/'):\n",
    "        for filename in filenames:\n",
    "            if filename.endswith('.medlee.txt'):\n",
    "                abspath = os.path.abspath(filename)\n",
    "                print(abspath)\n",
    "                file_to_lower(abspath)"
   ]
  }
 ],
 "metadata": {
  "kernelspec": {
   "display_name": "Python 3",
   "language": "python",
   "name": "python3"
  },
  "language_info": {
   "codemirror_mode": {
    "name": "ipython",
    "version": 3
   },
   "file_extension": ".py",
   "mimetype": "text/x-python",
   "name": "python",
   "nbconvert_exporter": "python",
   "pygments_lexer": "ipython3",
   "version": "3.7.0"
  }
 },
 "nbformat": 4,
 "nbformat_minor": 2
}
